{
 "cells": [
  {
   "cell_type": "code",
   "execution_count": 1,
   "metadata": {},
   "outputs": [
    {
     "data": {
      "text/plain": [
       "Assistant(id='asst_W7SlRDQ4EuYW3NCwRWpI5eux', created_at=1726291479, description=None, instructions='You help users with their question on the files they upload.', metadata={}, model='gpt-4o-mini', name='Book Assistant', object='assistant', tools=[FileSearchTool(type='file_search', file_search=FileSearch(max_num_results=None, ranking_options=FileSearchRankingOptions(score_threshold=0.0, ranker='default_2024_08_21')))], response_format='auto', temperature=1.0, tool_resources=ToolResources(code_interpreter=None, file_search=ToolResourcesFileSearch(vector_store_ids=[])), top_p=1.0)"
      ]
     },
     "execution_count": 1,
     "metadata": {},
     "output_type": "execute_result"
    }
   ],
   "source": [
    "import openai as client\n",
    "\n",
    "assistant = client.beta.assistants.create(\n",
    "    name=\"Book Assistant\",\n",
    "    instructions=\"You help users with their question on the files they upload.\",\n",
    "    model=\"gpt-4o-mini\",\n",
    "    tools=[{\"type\": \"file_search\"}],\n",
    ")\n",
    "assistant\n",
    "\n",
    "# assistant_id = \"asst_9xcCNAq3brRU5PhMxyPHT5O7\""
   ]
  },
  {
   "cell_type": "code",
   "execution_count": null,
   "metadata": {},
   "outputs": [],
   "source": [
    "thread = client.beta.threads.create(\n",
    "    messages=[\n",
    "        {\n",
    "            \"role\": \"user\",\n",
    "            \"content\": \"I want you to help me with this file.\",\n",
    "        }\n",
    "    ]\n",
    ")\n",
    "thread"
   ]
  },
  {
   "cell_type": "code",
   "execution_count": null,
   "metadata": {},
   "outputs": [],
   "source": [
    "file = client.files.create(\n",
    "    file = client.file_from_path(\".cache/files/chapter_one.txt\"),\n",
    "    purpose=\"assistants\",\n",
    ")\n",
    "file"
   ]
  },
  {
   "cell_type": "code",
   "execution_count": null,
   "metadata": {},
   "outputs": [],
   "source": [
    "client.beta.threads.messages.create(\n",
    "    thread_id=thread.id,\n",
    "    role='user',\n",
    "    content=\"\",\n",
    "    attachments=[\n",
    "        {\n",
    "            'file_id':file.id,\n",
    "            'tools':[\n",
    "                {\n",
    "                    \"type\":\"file_search\",\n",
    "                }\n",
    "            ]\n",
    "        }\n",
    "    ]\n",
    ")"
   ]
  },
  {
   "cell_type": "code",
   "execution_count": 19,
   "metadata": {},
   "outputs": [],
   "source": [
    "run = client.beta.threads.runs.create(\n",
    "    thread_id=thread.id,\n",
    "    assistant_id=assistant_id,\n",
    ")"
   ]
  },
  {
   "cell_type": "code",
   "execution_count": 30,
   "metadata": {},
   "outputs": [],
   "source": [
    "def get_run(run_id, thread_id):\n",
    "    return client.beta.threads.runs.retrieve(\n",
    "        run_id=run_id,\n",
    "        thread_id=thread_id,\n",
    "    )\n",
    "\n",
    "\n",
    "def send_message(thread_id, content):\n",
    "    return client.beta.threads.messages.create(\n",
    "        thread_id=thread_id,\n",
    "        role=\"user\",\n",
    "        content=content,\n",
    "    )\n",
    "\n",
    "\n",
    "def get_messages(thread_id):\n",
    "    messages = client.beta.threads.messages.list(\n",
    "        thread_id=thread_id,\n",
    "    )\n",
    "    messages = list(messages)\n",
    "    messages.reverse()\n",
    "    for message in messages:\n",
    "        print(f\"{message.role}: {message.content[0].text.value}\")\n",
    "        for annotation in message.content[0].text.annotations:\n",
    "            print(f\"Source: {annotation.file_citation}\")\n",
    "\n",
    "\n",
    "\n",
    "def get_tool_outputs(run_id, thread_id):\n",
    "    run = get_run(run_id, thread_id)\n",
    "    outputs = []\n",
    "    for action in run.required_action.submit_tool_outputs.tool_calls:\n",
    "        action_id = action.id\n",
    "        function = action.function\n",
    "        # print(f\"Calling function: {function.name} with arg {function.arguments}\")\n",
    "        outputs.append(\n",
    "            {\n",
    "                \"output\": functions_map[function.name](json.loads(function.arguments)),\n",
    "                \"tool_call_id\": action_id,\n",
    "            }\n",
    "        )\n",
    "    return outputs\n",
    "\n",
    "\n",
    "def submit_tool_outputs(run_id, thread_id):\n",
    "    outputs = get_tool_outputs(run_id, thread_id)\n",
    "    return client.beta.threads.runs.submit_tool_outputs(\n",
    "        run_id=run_id,\n",
    "        thread_id=thread_id,\n",
    "        tool_outputs=outputs,\n",
    "    )"
   ]
  },
  {
   "cell_type": "code",
   "execution_count": null,
   "metadata": {},
   "outputs": [],
   "source": [
    "get_run(run.id, thread.id).status"
   ]
  },
  {
   "cell_type": "code",
   "execution_count": 31,
   "metadata": {},
   "outputs": [
    {
     "name": "stdout",
     "output_type": "stream",
     "text": [
      "user: I want you to help me with this file.\n",
      "assistant: Sure! Please let me know what specific information or assistance you need regarding the file you've uploaded.\n",
      "user: I want to know where does Winston live and how his apartment looks like.\n",
      "assistant: Winston lives in a building called Victory Mansions. The description of his living situation and apartment includes several key details:\n",
      "\n",
      "1. **Victory Mansions Description**: Winston enters through \"the glass doors of Victory Mansions,\" which has a hallway that smells of boiled cabbage and old rag mats. The atmosphere is grimy and unwelcoming, suggesting a place in disrepair【6:0†source】.\n",
      "\n",
      "2. **Apartment Details**: Winston's flat is located seven flights up, as the lift is usually not working. The entire environment around him is cold and bleak. Inside the flat, there is a telescreen that cannot be completely turned off, allowing the Party to monitor activities【6:0†source】【6:3†source】.\n",
      "\n",
      "3. **Overall Atmosphere**: The bleakness is further compounded by the outside environment—Winston observes the streets filled with dust and torn paper, signs of decay and oppression around him. Despite the sun shining and the harsh blue sky, everything looks colorless apart from the ubiquitous propaganda posters of \"Big Brother\" watching him【6:0†source】【6:3†source】.\n",
      "\n",
      "Overall, Winston's living conditions reflect the oppressive regime he lives under, highlighting his isolation and the constant surveillance he faces.\n",
      "Source: FileCitation(file_id='file-x2Wiyl0K2UIqPGI0vTncGrVp')\n",
      "Source: FileCitation(file_id='file-x2Wiyl0K2UIqPGI0vTncGrVp')\n",
      "Source: FileCitation(file_id='file-x2Wiyl0K2UIqPGI0vTncGrVp')\n",
      "Source: FileCitation(file_id='file-x2Wiyl0K2UIqPGI0vTncGrVp')\n",
      "Source: FileCitation(file_id='file-x2Wiyl0K2UIqPGI0vTncGrVp')\n"
     ]
    }
   ],
   "source": [
    "get_messages(thread.id)"
   ]
  },
  {
   "cell_type": "code",
   "execution_count": null,
   "metadata": {},
   "outputs": [],
   "source": [
    "submit_tool_outputs(run.id, thread.id)"
   ]
  },
  {
   "cell_type": "code",
   "execution_count": null,
   "metadata": {},
   "outputs": [],
   "source": [
    "send_message(thread.id, \"I want to know where does Winston live and how his apartment looks like.\",)"
   ]
  }
 ],
 "metadata": {
  "kernelspec": {
   "display_name": "env",
   "language": "python",
   "name": "python3"
  },
  "language_info": {
   "codemirror_mode": {
    "name": "ipython",
    "version": 3
   },
   "file_extension": ".py",
   "mimetype": "text/x-python",
   "name": "python",
   "nbconvert_exporter": "python",
   "pygments_lexer": "ipython3",
   "version": "3.11.6"
  }
 },
 "nbformat": 4,
 "nbformat_minor": 2
}
