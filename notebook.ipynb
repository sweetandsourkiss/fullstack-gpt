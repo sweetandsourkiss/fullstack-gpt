{
 "cells": [
  {
   "cell_type": "code",
   "execution_count": 11,
   "metadata": {},
   "outputs": [
    {
     "name": "stdout",
     "output_type": "stream",
     "text": [
      "AI: \n",
      "        Here is what I know:\n",
      "        Director: Peter Jackson\n",
      "        Cast: Elijah Wood, Ian McKellen, Viggo Mortensen\n",
      "        Budget: $281,000,000 (for the entire trilogy)\n",
      "        Box Office Profits: $2,981,000,000 (for the entire trilogy)\n",
      "        Genre: Fantasy, Adventure\n",
      "        Synopsis: Based on the novels by J.R.R. Tolkien, The Lord of the Rings follows the journey of Frodo Baggins as he sets out to destroy the One Ring and defeat the dark lord Sauron. Along the way, he is joined by a fellowship of diverse characters who must overcome various challenges and obstacles in order to save Middle-earth from the forces of evil. The trilogy is known for its epic scale, intricate world-building, and memorable characters."
     ]
    },
    {
     "data": {
      "text/plain": [
       "AIMessageChunk(content='AI: \\n        Here is what I know:\\n        Director: Peter Jackson\\n        Cast: Elijah Wood, Ian McKellen, Viggo Mortensen\\n        Budget: $281,000,000 (for the entire trilogy)\\n        Box Office Profits: $2,981,000,000 (for the entire trilogy)\\n        Genre: Fantasy, Adventure\\n        Synopsis: Based on the novels by J.R.R. Tolkien, The Lord of the Rings follows the journey of Frodo Baggins as he sets out to destroy the One Ring and defeat the dark lord Sauron. Along the way, he is joined by a fellowship of diverse characters who must overcome various challenges and obstacles in order to save Middle-earth from the forces of evil. The trilogy is known for its epic scale, intricate world-building, and memorable characters.')"
      ]
     },
     "execution_count": 11,
     "metadata": {},
     "output_type": "execute_result"
    }
   ],
   "source": [
    "from langchain.chat_models import ChatOpenAI\n",
    "from langchain.prompts.few_shot import FewShotPromptTemplate\n",
    "from langchain.callbacks import StreamingStdOutCallbackHandler\n",
    "from langchain.prompts.prompt import PromptTemplate\n",
    "\n",
    "chat = ChatOpenAI(\n",
    "    temperature=0.1,\n",
    "    streaming=True,\n",
    "    callbacks=[\n",
    "        StreamingStdOutCallbackHandler(),\n",
    "    ],\n",
    ")\n",
    "\n",
    "\n",
    "examples = [\n",
    "    {\n",
    "        \"question\": \"What do you know about the movie 'Big Fish'\",\n",
    "        \"answer\": \"\"\"\n",
    "        Here is what I know:\n",
    "        Director: Tim Burton\n",
    "        Cast: Ewan McGregor, Alison Lohman\n",
    "        Budget: $70,000,000\n",
    "        Box Office Profits: $122,919,055\n",
    "        Genre: Drama, Fantasy, Romance\n",
    "        Synopsis: The film explores Edward's life through the tall tales he tells, filled with fantastical characters and incredible adventures. As Edward nears the end of his life, Will, who has always been skeptical of his father's stories, tries to separate fact from fiction to understand who his father truly is. The movie blends reality and fantasy, ultimately revealing how stories can shape our identities and connections with others.\n",
    "        \"\"\",\n",
    "    },\n",
    "    {\n",
    "        \"question\": \"What do you know about the movie 'The Rocky Horror Picture Show'\",\n",
    "        \"answer\": \"\"\"\n",
    "        Here is what I know:\n",
    "        Director: Jim Sharman \n",
    "        Cast: Tim Curry, Susan Sarandon\n",
    "        Budget: $1,400,000\n",
    "        Box Office Profits: $170,000,000\n",
    "        Genre: Musical, Horror, Comedy, SF\n",
    "        Synopsis: \n",
    "        \"\"\",\n",
    "    },\n",
    "    {\n",
    "        \"question\": \"What do you know about the movie 'The Fall'\",\n",
    "        \"answer\": \"\"\"\n",
    "        Here is what I know:\n",
    "        Director: Tarsem Singh\n",
    "        Cast: Lee Pace, Catinca Untaru\n",
    "        Budget: $30,000,000\n",
    "        Box Office Profits: $3,669,465\n",
    "        Genre: Adventure, Fanasy, Drama\n",
    "        Synopsis: The story is set in a Los Angeles hospital in the 1920s, where a bedridden stuntman named Roy Walker befriends a young immigrant girl named Alexandria. To pass the time, Roy begins telling Alexandria an epic story about five mythical heroes on a quest to defeat an evil ruler. As the line between reality and fantasy blurs, Roy's own despair seeps into the tale, leading both him and Alexandria on a journey of hope, redemption, and imagination. The film is renowned for its breathtaking cinematography and unique storytelling approach.\n",
    "        \"\"\",\n",
    "    },\n",
    "]\n",
    "\n",
    "\n",
    "example_prompt = PromptTemplate.from_template(\"Human: {question}\\nAI:{answer}\")\n",
    "\n",
    "prompt = FewShotPromptTemplate(\n",
    "    example_prompt=example_prompt,\n",
    "    examples=examples,\n",
    "    suffix=\"Human: What do you know about {movie}?\",\n",
    "    input_variables=[\"movie\"],\n",
    ")\n",
    "\n",
    "chain = prompt | chat\n",
    "\n",
    "chain.invoke({\"movie\": \"The Lord of the Rings\"})"
   ]
  }
 ],
 "metadata": {
  "kernelspec": {
   "display_name": "env",
   "language": "python",
   "name": "python3"
  },
  "language_info": {
   "codemirror_mode": {
    "name": "ipython",
    "version": 3
   },
   "file_extension": ".py",
   "mimetype": "text/x-python",
   "name": "python",
   "nbconvert_exporter": "python",
   "pygments_lexer": "ipython3",
   "version": "3.11.9"
  }
 },
 "nbformat": 4,
 "nbformat_minor": 2
}
